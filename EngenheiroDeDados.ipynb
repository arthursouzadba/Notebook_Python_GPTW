{
  "nbformat": 4,
  "nbformat_minor": 0,
  "metadata": {
    "colab": {
      "provenance": [],
      "authorship_tag": "ABX9TyNIxtk6qdyQHFilTuo0CaPc",
      "include_colab_link": true
    },
    "kernelspec": {
      "name": "python3",
      "display_name": "Python 3"
    },
    "language_info": {
      "name": "python"
    }
  },
  "cells": [
    {
      "cell_type": "markdown",
      "metadata": {
        "id": "view-in-github",
        "colab_type": "text"
      },
      "source": [
        "<a href=\"https://colab.research.google.com/github/arthursouzadba/Notebook_Python_GPTW/blob/master/EngenheiroDeDados.ipynb\" target=\"_parent\"><img src=\"https://colab.research.google.com/assets/colab-badge.svg\" alt=\"Open In Colab\"/></a>"
      ]
    },
    {
      "cell_type": "markdown",
      "source": [
        "## FAKER"
      ],
      "metadata": {
        "id": "oA_vlGGZwFB0"
      }
    },
    {
      "cell_type": "code",
      "execution_count": 2,
      "metadata": {
        "colab": {
          "base_uri": "https://localhost:8080/"
        },
        "id": "M8DR2U07CIO1",
        "outputId": "57dae747-70ec-46e1-b306-3dd99663d27e"
      },
      "outputs": [
        {
          "output_type": "stream",
          "name": "stdout",
          "text": [
            "Requirement already satisfied: pyspark in /usr/local/lib/python3.11/dist-packages (3.5.5)\n",
            "Collecting faker\n",
            "  Downloading faker-37.1.0-py3-none-any.whl.metadata (15 kB)\n",
            "Collecting datetime\n",
            "  Downloading DateTime-5.5-py3-none-any.whl.metadata (33 kB)\n",
            "Requirement already satisfied: py4j==0.10.9.7 in /usr/local/lib/python3.11/dist-packages (from pyspark) (0.10.9.7)\n",
            "Requirement already satisfied: tzdata in /usr/local/lib/python3.11/dist-packages (from faker) (2025.2)\n",
            "Collecting zope.interface (from datetime)\n",
            "  Downloading zope.interface-7.2-cp311-cp311-manylinux_2_5_x86_64.manylinux1_x86_64.manylinux_2_17_x86_64.manylinux2014_x86_64.whl.metadata (44 kB)\n",
            "\u001b[2K     \u001b[90m━━━━━━━━━━━━━━━━━━━━━━━━━━━━━━━━━━━━━━━━\u001b[0m \u001b[32m44.4/44.4 kB\u001b[0m \u001b[31m1.4 MB/s\u001b[0m eta \u001b[36m0:00:00\u001b[0m\n",
            "\u001b[?25hRequirement already satisfied: pytz in /usr/local/lib/python3.11/dist-packages (from datetime) (2025.2)\n",
            "Requirement already satisfied: setuptools in /usr/local/lib/python3.11/dist-packages (from zope.interface->datetime) (75.2.0)\n",
            "Downloading faker-37.1.0-py3-none-any.whl (1.9 MB)\n",
            "\u001b[2K   \u001b[90m━━━━━━━━━━━━━━━━━━━━━━━━━━━━━━━━━━━━━━━━\u001b[0m \u001b[32m1.9/1.9 MB\u001b[0m \u001b[31m27.6 MB/s\u001b[0m eta \u001b[36m0:00:00\u001b[0m\n",
            "\u001b[?25hDownloading DateTime-5.5-py3-none-any.whl (52 kB)\n",
            "\u001b[2K   \u001b[90m━━━━━━━━━━━━━━━━━━━━━━━━━━━━━━━━━━━━━━━━\u001b[0m \u001b[32m52.6/52.6 kB\u001b[0m \u001b[31m2.8 MB/s\u001b[0m eta \u001b[36m0:00:00\u001b[0m\n",
            "\u001b[?25hDownloading zope.interface-7.2-cp311-cp311-manylinux_2_5_x86_64.manylinux1_x86_64.manylinux_2_17_x86_64.manylinux2014_x86_64.whl (259 kB)\n",
            "\u001b[2K   \u001b[90m━━━━━━━━━━━━━━━━━━━━━━━━━━━━━━━━━━━━━━━━\u001b[0m \u001b[32m259.8/259.8 kB\u001b[0m \u001b[31m13.5 MB/s\u001b[0m eta \u001b[36m0:00:00\u001b[0m\n",
            "\u001b[?25hInstalling collected packages: zope.interface, faker, datetime\n",
            "Successfully installed datetime-5.5 faker-37.1.0 zope.interface-7.2\n"
          ]
        }
      ],
      "source": [
        "!pip install pyspark faker datetime"
      ]
    },
    {
      "cell_type": "code",
      "source": [
        "from faker import Faker\n",
        "import random\n",
        "from pyspark.sql import SparkSession\n",
        "from pyspark.sql.types import StructType, StructField, StringType, DoubleType, DateType\n",
        "from datetime import datetime\n",
        "# Import the PySpark functions module\n",
        "from pyspark.sql import functions as F"
      ],
      "metadata": {
        "id": "9L0Pg_TwCWck"
      },
      "execution_count": 3,
      "outputs": []
    },
    {
      "cell_type": "code",
      "source": [
        "fake = Faker()\n",
        "\n",
        "spark = SparkSession.builder.appName('data_generator').getOrCreate()\n",
        "\n",
        "def generate_data(n):\n",
        "    data = []\n",
        "    for _ in range(n):\n",
        "        name = fake.name()\n",
        "        balance = random.uniform(1000, 10000)  # Generate balance without rounding\n",
        "        account_number = fake.bban()\n",
        "        date = fake.date_between(start_date='-1y', end_date='today')\n",
        "        data.append((name, balance, account_number, date))\n",
        "    return data\n",
        "\n",
        "# Define explicit schema with proper types\n",
        "schema = StructType([\n",
        "    StructField(\"name\", StringType(), nullable=False),\n",
        "    StructField(\"balance\", DoubleType(), nullable=False),\n",
        "    StructField(\"account_number\", StringType(), nullable=False),\n",
        "    StructField(\"date\", DateType(), nullable=False)\n",
        "])\n",
        "\n",
        "# Generate data\n",
        "dados = generate_data(n=10000)\n",
        "\n",
        "# Create DataFrame with explicit schema\n",
        "df = spark.createDataFrame(data=dados, schema=schema)\n",
        "# Round the 'balance' column using PySpark's round function\n",
        "df = df.withColumn(\"balance\", F.round(df[\"balance\"], 2))\n",
        "\n",
        "# Show results\n",
        "df.show(5)\n",
        "print(f\"Total records: {df.count()}\")"
      ],
      "metadata": {
        "colab": {
          "base_uri": "https://localhost:8080/"
        },
        "id": "sVWKhdGMCeAr",
        "outputId": "e5688b26-1919-487f-da9b-23a713ae50b7"
      },
      "execution_count": 4,
      "outputs": [
        {
          "output_type": "stream",
          "name": "stdout",
          "text": [
            "+-------------+-------+------------------+----------+\n",
            "|         name|balance|    account_number|      date|\n",
            "+-------------+-------+------------------+----------+\n",
            "| Kelly Thomas|5931.54|PRCM99746494871625|2024-12-30|\n",
            "|Rose Martinez| 2146.6|LHKO83983170102934|2024-09-08|\n",
            "|   Leah Smith|6336.59|SCKA53642009328399|2024-07-10|\n",
            "|Charles Lucas|5144.46|WJOQ70916287667092|2024-12-22|\n",
            "|Sherry Morgan|5232.37|AKXG72798479364665|2025-03-28|\n",
            "+-------------+-------+------------------+----------+\n",
            "only showing top 5 rows\n",
            "\n",
            "Total records: 10000\n"
          ]
        }
      ]
    },
    {
      "cell_type": "code",
      "source": [
        "df.count()"
      ],
      "metadata": {
        "colab": {
          "base_uri": "https://localhost:8080/"
        },
        "id": "87Sv6pFGoEoT",
        "outputId": "0b095ef4-d7f4-43e2-c4aa-4f82e09e2863"
      },
      "execution_count": 5,
      "outputs": [
        {
          "output_type": "execute_result",
          "data": {
            "text/plain": [
              "10000"
            ]
          },
          "metadata": {},
          "execution_count": 5
        }
      ]
    },
    {
      "cell_type": "code",
      "source": [
        "df_ordenado = df.orderBy(df.balance.desc()).limit(10)\n",
        "df_ordenado.show()"
      ],
      "metadata": {
        "colab": {
          "base_uri": "https://localhost:8080/"
        },
        "id": "Z9eqwbisrIAN",
        "outputId": "9fd66ba8-2ab8-4096-d84e-479dd1ee0c84"
      },
      "execution_count": 9,
      "outputs": [
        {
          "output_type": "stream",
          "name": "stdout",
          "text": [
            "+----------------+-------+------------------+----------+\n",
            "|            name|balance|    account_number|      date|\n",
            "+----------------+-------+------------------+----------+\n",
            "|   John Robinson| 9999.0|GYLE24324219877366|2025-03-28|\n",
            "|   Daniel Fowler|9998.79|FRVN38513037137273|2025-03-11|\n",
            "|  Alexander Chen|9998.29|RYWV73856690533196|2024-10-03|\n",
            "|       Stacy Ray|9993.55|FQLS58224636577227|2024-10-25|\n",
            "|       Troy Shaw|9993.36|HQIV35307719888054|2025-01-10|\n",
            "|     Victor Wood|9993.13|WDHA20295124310499|2024-06-02|\n",
            "|     Aaron Burns|9992.39|XYME88808566387375|2025-03-19|\n",
            "|Michael Crawford|9990.64|HOFL31362905668136|2025-01-22|\n",
            "|   Jennifer Choi|9990.09|YOAN63237192127549|2024-10-01|\n",
            "|   Austin Willis|9988.23|CVIQ81493998646151|2024-08-10|\n",
            "+----------------+-------+------------------+----------+\n",
            "\n"
          ]
        }
      ]
    },
    {
      "cell_type": "markdown",
      "source": [
        "## ETL e ELT (SPARK CLUSTER)"
      ],
      "metadata": {
        "id": "ThQCA3LuwACj"
      }
    },
    {
      "cell_type": "code",
      "source": [
        "spark = SparkSession.builder.appName('sojaSensores').getOrCreate()"
      ],
      "metadata": {
        "id": "a8iKCNN2vN7n"
      },
      "execution_count": 10,
      "outputs": []
    },
    {
      "cell_type": "code",
      "source": [
        "spark.read.option(\"header\", \"true\").csv(\"sensores-iot.csv\").show()"
      ],
      "metadata": {
        "colab": {
          "base_uri": "https://localhost:8080/"
        },
        "id": "Z01X8zvkvw4a",
        "outputId": "4b17c1bd-a574-4e27-8315-2e2d457ecddf"
      },
      "execution_count": 19,
      "outputs": [
        {
          "output_type": "stream",
          "name": "stdout",
          "text": [
            "+---+-----------+-----------+--------+--------------------+-----------+-----------+\n",
            "|_c0|  device_id|temperature|humidity|           timestamp|   latitude|  longitude|\n",
            "+---+-----------+-----------+--------+--------------------+-----------+-----------+\n",
            "|  0|sensor-2231|         25|      49|2004-10-08 05:19:...| 39.0319385|-167.644666|\n",
            "|  1|sensor-3869|         17|      42|2010-06-16 20:35:...| 43.4913955|  76.084671|\n",
            "|  2|sensor-7079|         35|      58|2010-10-03 18:10:...|-39.9795415|-149.006886|\n",
            "|  3|sensor-1163|         15|      64|2005-10-10 11:38:...| 28.1871005|-112.581419|\n",
            "|  4|sensor-4483|         14|      65|2020-04-29 07:56:...| 89.2243515| -16.076939|\n",
            "|  5|sensor-2821|         15|      52|2000-10-27 23:32:...|-55.3025525| -26.657210|\n",
            "|  6|sensor-9805|         12|      37|2022-08-09 22:08:...| -25.912786| 122.693490|\n",
            "|  7|sensor-1230|         10|      60|1970-02-02 17:32:...|-88.9300035|  33.377804|\n",
            "|  8|sensor-4472|         11|      75|2014-02-22 06:42:...|-89.0426855| 120.266309|\n",
            "|  9|sensor-2506|         21|      47|1996-05-07 20:48:...|  12.514161|-137.848048|\n",
            "| 10|sensor-3518|         25|      26|1987-05-14 11:34:...| -56.307075| -16.077716|\n",
            "| 11|sensor-8686|         31|      40|2021-04-29 06:24:...| -21.282637|  74.162657|\n",
            "| 12|sensor-5294|         29|      73|2013-06-08 23:40:...|  64.529081|-101.889952|\n",
            "| 13|sensor-7677|         11|      54|1977-03-07 21:41:...|  55.156515|-133.649076|\n",
            "| 14|sensor-7121|         20|      55|1985-04-23 15:50:...|  75.636212|  83.222337|\n",
            "| 15|sensor-4786|         13|      67|2014-07-17 03:02:...| 11.1979225|  -6.551372|\n",
            "| 16|sensor-0415|         32|      58|1994-02-13 07:50:...| 52.3421005| -97.622644|\n",
            "| 17|sensor-1413|         15|      65|2017-01-17 12:55:...| 45.2803425| 155.446898|\n",
            "| 18|sensor-2884|         17|      36|1983-11-04 21:42:...|  76.162808|-139.796114|\n",
            "| 19|sensor-7096|         20|      56|1974-01-15 11:58:...| -79.873674| 127.088715|\n",
            "+---+-----------+-----------+--------+--------------------+-----------+-----------+\n",
            "only showing top 20 rows\n",
            "\n"
          ]
        }
      ]
    }
  ]
}